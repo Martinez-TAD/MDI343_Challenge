{
 "cells": [
  {
   "cell_type": "code",
   "execution_count": 1,
   "metadata": {},
   "outputs": [],
   "source": [
    "%matplotlib inline\n",
    "import numpy as np\n",
    "import sys\n",
    "import os\n",
    "import matplotlib.pyplot as plt\n",
    "import math\n",
    "from sklearn.linear_model import LogisticRegression\n",
    "\n"
   ]
  },
  {
   "cell_type": "code",
   "execution_count": 2,
   "metadata": {},
   "outputs": [
    {
     "name": "stdout",
     "output_type": "stream",
     "text": [
      "[[ 1.00000e+00  0.00000e+00  0.00000e+00 -6.24000e+00 -5.27000e+00\n",
      "  -1.86000e+00  6.30000e-01  3.27000e+00  8.90000e-01  3.50980e+02\n",
      "   6.48600e+01  0.00000e+00  1.00000e+00  1.00000e+00  0.00000e+00\n",
      "   0.00000e+00 -9.44000e+00 -1.25300e+01  8.40000e-01  2.59000e+00\n",
      "   1.53000e+00  1.03000e+00  2.76020e+02  5.80200e+01  0.00000e+00\n",
      "   1.00000e+00  2.40594e+03  1.98109e+03  2.67784e+03  2.47044e+03\n",
      "   1.57939e+03  2.18579e+03  2.11877e+03  2.58099e+03  2.49804e+03\n",
      "   3.18058e+03  2.71829e+03]\n",
      " [ 1.00000e+00  0.00000e+00  0.00000e+00 -4.20000e-01 -4.50000e+00\n",
      "  -4.31000e+00  1.61000e+00  1.72000e+00  2.76000e+00  3.47060e+02\n",
      "   2.88500e+01  0.00000e+00  9.90000e-01  1.00000e+00  0.00000e+00\n",
      "   0.00000e+00 -3.50000e-01 -1.89700e+01 -1.31000e+00  1.23000e+00\n",
      "   8.40000e-01  3.40000e-01  2.63840e+02  3.05000e+01  0.00000e+00\n",
      "   1.00000e+00  3.24137e+03  2.01524e+03  3.98719e+03  3.34353e+03\n",
      "   2.89469e+03  2.94734e+03  2.68942e+03  3.76351e+03  2.54422e+03\n",
      "   3.51558e+03  3.24749e+03]\n",
      " [ 1.00000e+00  0.00000e+00  0.00000e+00  3.37600e+01 -1.92900e+01\n",
      "   2.71000e+00  1.73000e+00  1.32000e+00  1.53000e+00  1.35940e+02\n",
      "   5.76500e+01  1.00000e+00  1.00000e-02  1.00000e+00  0.00000e+00\n",
      "   0.00000e+00 -1.25800e+01 -9.99000e+00 -1.50000e-01  1.21000e+00\n",
      "   3.40000e-01  1.60000e+00  3.57670e+02  5.19800e+01  1.00000e+00\n",
      "   1.00000e+00  2.19922e+03  2.54959e+03  2.16441e+03  2.10069e+03\n",
      "   1.29435e+03  2.13604e+03  1.64405e+03  2.30805e+03  1.77488e+03\n",
      "   3.00579e+03  2.50702e+03]]\n",
      "[0. 0. 0. 0. 0. 0. 0. 0. 0. 1.]\n",
      "(100, 37)\n",
      "(100,)\n"
     ]
    }
   ],
   "source": [
    "# Load training data\n",
    "nrows_train = 49\n",
    "nrows_valid = 51\n",
    "xtrain = np.loadtxt('data/xtrain_challenge.csv', delimiter=',', skiprows = 1, max_rows = nrows_train + nrows_valid)\n",
    "ytrain = np.loadtxt('data/ytrain_challenge.csv', delimiter=',', skiprows = 1, max_rows = nrows_train + nrows_valid)\n",
    "ytrain = np.array(ytrain).reshape(nrows_train + nrows_valid)\n",
    "# Check the number of observations and properties\n",
    "print(xtrain[:3,])\n",
    "print(ytrain[:10])\n",
    "print(xtrain.shape)\n",
    "print(ytrain.shape)"
   ]
  },
  {
   "cell_type": "code",
   "execution_count": 3,
   "metadata": {},
   "outputs": [
    {
     "data": {
      "text/plain": [
       "LogisticRegression(C=1.0, class_weight=None, dual=False, fit_intercept=True,\n",
       "                   intercept_scaling=1, l1_ratio=None, max_iter=100,\n",
       "                   multi_class='auto', n_jobs=None, penalty='l2',\n",
       "                   random_state=None, solver='lbfgs', tol=0.0001, verbose=0,\n",
       "                   warm_start=False)"
      ]
     },
     "execution_count": 3,
     "metadata": {},
     "output_type": "execute_result"
    }
   ],
   "source": [
    "\n",
    "\n",
    "# Train the classifier on a part of the data set\n",
    "clf = LogisticRegression(solver='lbfgs')\n",
    "clf.fit(xtrain[:nrows_train], ytrain[:nrows_train], )\n",
    "\n"
   ]
  },
  {
   "cell_type": "code",
   "execution_count": 4,
   "metadata": {},
   "outputs": [
    {
     "name": "stdout",
     "output_type": "stream",
     "text": [
      "[7.22245131e-08 1.37566233e-09 9.99258613e-01 2.23355545e-06\n",
      " 1.03031232e-10 3.04856694e-10 1.12137418e-11 1.26164707e-07\n",
      " 1.53594801e-11 1.15437394e-09 1.71801445e-11 1.00000000e+00\n",
      " 7.22535624e-09 1.81026406e-09 9.99403794e-09 2.10589733e-08\n",
      " 3.53614629e-09 4.60942713e-08 3.61415276e-13 3.31623721e-09\n",
      " 1.05706165e-08 4.30388040e-07 1.06614638e-12 3.29254070e-10\n",
      " 3.22364670e-09 2.38831277e-11 9.69647493e-08 4.19342327e-12\n",
      " 2.09900572e-11 1.37808492e-06 1.94527253e-08 3.98905882e-10\n",
      " 1.00000000e+00 4.04981736e-11 1.68247595e-11 4.23396576e-11\n",
      " 6.61319569e-11 1.34666511e-12 1.04895579e-08 9.02744882e-08\n",
      " 4.80341486e-08 3.81114546e-10 2.62666266e-11 6.09709652e-09\n",
      " 4.56042074e-08 8.09745117e-08 1.00000000e+00 1.41549502e-07\n",
      " 8.61558922e-11 3.35364350e-12 1.24649057e-11]\n"
     ]
    }
   ],
   "source": [
    "\n",
    "\n",
    "# Check its on another part of the data set\n",
    "yvalid = clf.predict_proba(xtrain[nrows_train:(nrows_train + nrows_valid)])[:,clf.classes_ == 1][:,0]\n",
    "print(yvalid)\n",
    "\n"
   ]
  },
  {
   "cell_type": "code",
   "execution_count": 5,
   "metadata": {},
   "outputs": [
    {
     "name": "stdout",
     "output_type": "stream",
     "text": [
      "[0. 0. 0. 0. 0. 0. 0. 0. 0. 0. 0. 0. 0. 1. 0. 0. 0. 0. 0. 0. 0. 0. 0. 0.\n",
      " 0. 0. 0. 0. 0. 0. 0. 0. 0. 0. 0. 0. 0. 0. 0. 0. 0. 0. 0. 0. 0. 0. 0. 1.\n",
      " 1. 1. 1.]\n",
      "For the smallest FPR <= 10^-4 (i.e., 0.0) TPR = 0.8.\n"
     ]
    }
   ],
   "source": [
    "\n",
    "# Calculate the performance metric\n",
    "yvalid_scoreordered = ytrain[nrows_train:(nrows_train + nrows_valid)][np.argsort(yvalid)]\n",
    "print(yvalid_scoreordered)\n",
    "N = np.sum(ytrain[nrows_train:(nrows_train + nrows_valid)] == 0)\n",
    "P = np.sum(ytrain[nrows_train:(nrows_train + nrows_valid)] == 1)\n",
    "FP = 0\n",
    "TP = 0\n",
    "for i in range(nrows_valid - 1, -1, -1):\n",
    "    if (yvalid_scoreordered[i] == 1):\n",
    "        TP = TP + 1\n",
    "    else:\n",
    "        FP = FP + 1\n",
    "    if (FP / N > 10**-4):\n",
    "        FP = FP - 1\n",
    "        break\n",
    "print(\"For the smallest FPR <= 10^-4 (i.e., \", FP / N, \") TPR = \", TP / P, \".\", sep = \"\")\n",
    "\n"
   ]
  },
  {
   "cell_type": "code",
   "execution_count": 7,
   "metadata": {},
   "outputs": [
    {
     "name": "stdout",
     "output_type": "stream",
     "text": [
      "(3768311,)\n"
     ]
    }
   ],
   "source": [
    "# Load test data\n",
    "xtest = np.loadtxt('data/xtest_challenge.csv', delimiter=',', skiprows = 1)\n",
    "# Classify the provided test data\n",
    "ytest = clf.predict_proba(xtest)[:,clf.classes_ == 1][:,0]\n",
    "print(ytest.shape)\n",
    "np.savetxt('ytest_challenge_student.csv', ytest, fmt = '%1.15f', delimiter=',')\n",
    "\n"
   ]
  },
  {
   "cell_type": "code",
   "execution_count": null,
   "metadata": {},
   "outputs": [],
   "source": []
  }
 ],
 "metadata": {
  "kernelspec": {
   "display_name": "Python 3",
   "language": "python",
   "name": "python3"
  },
  "language_info": {
   "codemirror_mode": {
    "name": "ipython",
    "version": 3
   },
   "file_extension": ".py",
   "mimetype": "text/x-python",
   "name": "python",
   "nbconvert_exporter": "python",
   "pygments_lexer": "ipython3",
   "version": "3.7.6"
  }
 },
 "nbformat": 4,
 "nbformat_minor": 4
}
