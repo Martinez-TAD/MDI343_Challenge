{
 "cells": [
  {
   "cell_type": "code",
   "execution_count": 1,
   "metadata": {},
   "outputs": [],
   "source": [
    "import pandas as pd\n",
    "import seaborn as sns\n",
    "import matplotlib.pyplot as plt\n",
    "import sklearn as sk\n",
    "import numpy as np\n",
    "from sklearn.model_selection import train_test_split\n",
    "\n",
    "pre_trained = True"
   ]
  },
  {
   "cell_type": "code",
   "execution_count": 2,
   "metadata": {},
   "outputs": [],
   "source": [
    "\n",
    "def distance_canberra_mat(d1, d2):\n",
    "    ### Don't seems to work in scipy    \n",
    "    divide = abs(d1) + abs(d2)    \n",
    "    distance = np.sum(np.divide(abs(d1-d2), divide, where=divide!=0), axis=1)    \n",
    "    return distance\n",
    "    \n",
    "def distance_cosine_mat(d1, d2):\n",
    "    ### Don't seems to work in scipy\n",
    "    val = np.sum(d1*d2, axis=1)\n",
    "    divide = np.sqrt(np.sum((d1*d1), axis=1))*np.sqrt(np.sum((d2*d2), axis=1))\n",
    "    return 1 - np.divide(val, divide)\n",
    "\n",
    "def distance_khi2_mat_w(d1, d2, w):\n",
    "    divide = (d1 + d2)*w    \n",
    "    distance = np.sum(np.divide((d1-d2)**2, divide, where=divide!=0), axis=1)   \n",
    "    return distance\n",
    "\n",
    "def distance_khi2_mat(d1, d2):\n",
    "    divide = d1 + d2    \n",
    "    distance = np.sum(np.divide((d1-d2)**2, divide, where=divide!=0), axis=1)   \n",
    "    return distance\n",
    "\n",
    "\n",
    "def distance_braycurtis_mat(d1, d2):\n",
    "    divide = np.sum(abs(d1 + d2), axis=1)\n",
    "    distance = np.divide(np.sum(abs(d1-d2), axis=1), divide)   \n",
    "    return distance\n",
    "\n",
    "\n",
    "def distance_eucl_mat(d1, d2):\n",
    "    distance = np.sqrt(np.sum((d1-d2)**2, axis=1))   \n",
    "    return distance"
   ]
  },
  {
   "cell_type": "code",
   "execution_count": 3,
   "metadata": {},
   "outputs": [],
   "source": [
    "train_label = pd.read_csv(\"data/train_with_ids.csv\")"
   ]
  },
  {
   "cell_type": "code",
   "execution_count": 4,
   "metadata": {},
   "outputs": [],
   "source": [
    "#train_label[[\"QS\",\"QR\"]].to_csv(\"data/train_labels.csv\")"
   ]
  },
  {
   "cell_type": "code",
   "execution_count": 4,
   "metadata": {},
   "outputs": [],
   "source": [
    "train_data = None\n",
    "\n",
    "\n",
    "if(pre_trained==False) :\n",
    "    xtrain=pd.read_csv(\"data/xtrain_challenge.csv\")\n",
    "    train_data = xtrain\n",
    "    \n",
    "    cols_qs = list(xtrain.columns)[:13]\n",
    "    cols_qr = list(xtrain.columns)[13:26]\n",
    "    cols_S1_11 = list(xtrain.columns)[26:37]\n",
    "    \n",
    "\n",
    "\n",
    "    # On créé des features artificielles:\n",
    "    # Q1-13 Q13-26 sont des identifiants uniques d'un visage\n",
    "    # On suppose que Q1-13 et Q13-26 pourrait etre inversé\n",
    "    # On regarde si on n'aurait pas des liaisons à faire en plus\n",
    "\n",
    "    # Merge des colonnes\n",
    "\n",
    "    train_data[\"QS\"] = train_data[cols_qs].apply(\n",
    "        lambda x: '_'.join(x.astype(str)),\n",
    "        axis=1\n",
    "    )\n",
    "\n",
    "    # Merge des colonnes\n",
    "\n",
    "    train_data[\"QR\"] = train_data[cols_qr].apply(\n",
    "        lambda x: '_'.join(x.astype(str)),\n",
    "        axis=1\n",
    "    )\n",
    "    train_data[['QS','QR']].to_csv(\"data/train_labels.csv\")\n",
    "else:\n",
    "    train_data = pd.read_csv(\"data/xtrain_challenge.csv\")\n",
    "    \n",
    "  \n",
    "    \n",
    "cols_qs = list(train_data.columns)[:13]\n",
    "cols_qr = list(train_data.columns)[13:26]\n",
    "cols_S1_11 = list(train_data.columns)[26:37]\n",
    "    "
   ]
  },
  {
   "cell_type": "code",
   "execution_count": 5,
   "metadata": {},
   "outputs": [],
   "source": [
    "train_data[\"canberra\"]=distance_canberra_mat(train_data[cols_qr].values, train_data[cols_qs].values)\n",
    "train_data[\"cosine\"]=distance_cosine_mat(train_data[cols_qr].values, train_data[cols_qs].values)\n",
    "train_data[\"khi2\"]=distance_khi2_mat(train_data[cols_qr].values,train_data[cols_qs].values)\n",
    "train_data[\"braycurtis\"]=distance_braycurtis_mat(train_data[cols_qr].values,train_data[cols_qs].values)\n",
    "train_data[\"euclidian\"]=distance_eucl_mat(train_data[cols_qr].values,train_data[cols_qs].values)\n",
    "ytrain=pd.read_csv(\"data/ytrain_challenge.csv\")\n",
    "xtrain = train_data"
   ]
  },
  {
   "cell_type": "code",
   "execution_count": 6,
   "metadata": {},
   "outputs": [],
   "source": [
    "train_data['QS'] = train_label['QS'].apply(lambda x: hash(x))"
   ]
  },
  {
   "cell_type": "code",
   "execution_count": 7,
   "metadata": {},
   "outputs": [],
   "source": [
    "train_data['QR'] = train_label['QR'].apply(lambda x: hash(x))"
   ]
  },
  {
   "cell_type": "code",
   "execution_count": null,
   "metadata": {},
   "outputs": [],
   "source": [
    "train_data.head(10)\n"
   ]
  },
  {
   "cell_type": "code",
   "execution_count": null,
   "metadata": {},
   "outputs": [],
   "source": [
    "#train_data[train_data.label==1].groupby(\"QS\")"
   ]
  },
  {
   "cell_type": "code",
   "execution_count": null,
   "metadata": {},
   "outputs": [],
   "source": [
    "for c in list(xtrain.columns):    \n",
    "    xtrain[c].plot(kind='hist', bins=30)\n",
    "    plt.title(c)\n",
    "    plt.show()\n"
   ]
  },
  {
   "cell_type": "code",
   "execution_count": 10,
   "metadata": {},
   "outputs": [
    {
     "data": {
      "text/html": [
       "<div>\n",
       "<style scoped>\n",
       "    .dataframe tbody tr th:only-of-type {\n",
       "        vertical-align: middle;\n",
       "    }\n",
       "\n",
       "    .dataframe tbody tr th {\n",
       "        vertical-align: top;\n",
       "    }\n",
       "\n",
       "    .dataframe thead th {\n",
       "        text-align: right;\n",
       "    }\n",
       "</style>\n",
       "<table border=\"1\" class=\"dataframe\">\n",
       "  <thead>\n",
       "    <tr style=\"text-align: right;\">\n",
       "      <th></th>\n",
       "      <th>qs1</th>\n",
       "      <th>qs2</th>\n",
       "      <th>qs3</th>\n",
       "      <th>qs4</th>\n",
       "      <th>qs5</th>\n",
       "      <th>qs6</th>\n",
       "      <th>qs7</th>\n",
       "      <th>qs8</th>\n",
       "      <th>qs9</th>\n",
       "      <th>qs10</th>\n",
       "      <th>...</th>\n",
       "      <th>s9</th>\n",
       "      <th>s10</th>\n",
       "      <th>s11</th>\n",
       "      <th>canberra</th>\n",
       "      <th>cosine</th>\n",
       "      <th>khi2</th>\n",
       "      <th>braycurtis</th>\n",
       "      <th>euclidian</th>\n",
       "      <th>QS</th>\n",
       "      <th>QR</th>\n",
       "    </tr>\n",
       "  </thead>\n",
       "  <tbody>\n",
       "    <tr>\n",
       "      <th>count</th>\n",
       "      <td>9.800713e+06</td>\n",
       "      <td>9.800713e+06</td>\n",
       "      <td>9.800713e+06</td>\n",
       "      <td>9.800713e+06</td>\n",
       "      <td>9.800713e+06</td>\n",
       "      <td>9.800713e+06</td>\n",
       "      <td>9.800713e+06</td>\n",
       "      <td>9.800713e+06</td>\n",
       "      <td>9.800713e+06</td>\n",
       "      <td>9.800713e+06</td>\n",
       "      <td>...</td>\n",
       "      <td>9.800713e+06</td>\n",
       "      <td>9.800713e+06</td>\n",
       "      <td>9.800713e+06</td>\n",
       "      <td>9.800713e+06</td>\n",
       "      <td>9.800713e+06</td>\n",
       "      <td>9.800713e+06</td>\n",
       "      <td>9.800713e+06</td>\n",
       "      <td>9.800713e+06</td>\n",
       "      <td>9.800713e+06</td>\n",
       "      <td>9.800713e+06</td>\n",
       "    </tr>\n",
       "    <tr>\n",
       "      <th>mean</th>\n",
       "      <td>9.918364e-01</td>\n",
       "      <td>5.252516e-03</td>\n",
       "      <td>2.858537e-03</td>\n",
       "      <td>-2.243750e-01</td>\n",
       "      <td>-5.766788e+00</td>\n",
       "      <td>-7.422710e-01</td>\n",
       "      <td>1.264598e+00</td>\n",
       "      <td>9.991708e-01</td>\n",
       "      <td>8.592701e-01</td>\n",
       "      <td>2.561005e+02</td>\n",
       "      <td>...</td>\n",
       "      <td>2.740128e+03</td>\n",
       "      <td>3.306104e+03</td>\n",
       "      <td>2.717576e+03</td>\n",
       "      <td>4.243066e+00</td>\n",
       "      <td>1.659784e-02</td>\n",
       "      <td>1.070081e+01</td>\n",
       "      <td>1.727854e-01</td>\n",
       "      <td>7.434250e+01</td>\n",
       "      <td>4.732326e+16</td>\n",
       "      <td>2.644986e+12</td>\n",
       "    </tr>\n",
       "    <tr>\n",
       "      <th>std</th>\n",
       "      <td>6.377177e-02</td>\n",
       "      <td>5.143305e-02</td>\n",
       "      <td>3.607721e-02</td>\n",
       "      <td>9.952588e+00</td>\n",
       "      <td>8.868902e+00</td>\n",
       "      <td>4.565691e+00</td>\n",
       "      <td>1.158636e+00</td>\n",
       "      <td>8.948037e-01</td>\n",
       "      <td>7.733346e-01</td>\n",
       "      <td>7.512713e+01</td>\n",
       "      <td>...</td>\n",
       "      <td>1.361459e+03</td>\n",
       "      <td>8.474081e+02</td>\n",
       "      <td>1.207085e+03</td>\n",
       "      <td>1.092331e+00</td>\n",
       "      <td>9.567894e-02</td>\n",
       "      <td>1.115858e+03</td>\n",
       "      <td>1.243161e-01</td>\n",
       "      <td>5.313885e+01</td>\n",
       "      <td>5.337736e+18</td>\n",
       "      <td>5.324747e+18</td>\n",
       "    </tr>\n",
       "    <tr>\n",
       "      <th>min</th>\n",
       "      <td>0.000000e+00</td>\n",
       "      <td>0.000000e+00</td>\n",
       "      <td>0.000000e+00</td>\n",
       "      <td>-7.820000e+01</td>\n",
       "      <td>-6.771000e+01</td>\n",
       "      <td>-3.482000e+01</td>\n",
       "      <td>0.000000e+00</td>\n",
       "      <td>0.000000e+00</td>\n",
       "      <td>0.000000e+00</td>\n",
       "      <td>-2.980000e+02</td>\n",
       "      <td>...</td>\n",
       "      <td>1.238680e+03</td>\n",
       "      <td>2.160870e+03</td>\n",
       "      <td>1.123050e+03</td>\n",
       "      <td>1.353562e-02</td>\n",
       "      <td>4.905670e-07</td>\n",
       "      <td>-3.051626e+05</td>\n",
       "      <td>1.599573e-03</td>\n",
       "      <td>7.253964e-01</td>\n",
       "      <td>-9.223315e+18</td>\n",
       "      <td>-9.223370e+18</td>\n",
       "    </tr>\n",
       "    <tr>\n",
       "      <th>25%</th>\n",
       "      <td>1.000000e+00</td>\n",
       "      <td>0.000000e+00</td>\n",
       "      <td>0.000000e+00</td>\n",
       "      <td>-3.220000e+00</td>\n",
       "      <td>-1.263000e+01</td>\n",
       "      <td>-2.850000e+00</td>\n",
       "      <td>4.700000e-01</td>\n",
       "      <td>3.500000e-01</td>\n",
       "      <td>3.100000e-01</td>\n",
       "      <td>2.112600e+02</td>\n",
       "      <td>...</td>\n",
       "      <td>2.162600e+03</td>\n",
       "      <td>2.926560e+03</td>\n",
       "      <td>2.170650e+03</td>\n",
       "      <td>3.491038e+00</td>\n",
       "      <td>1.347677e-03</td>\n",
       "      <td>-1.366981e+01</td>\n",
       "      <td>9.077034e-02</td>\n",
       "      <td>3.476738e+01</td>\n",
       "      <td>-4.609988e+18</td>\n",
       "      <td>-4.609368e+18</td>\n",
       "    </tr>\n",
       "    <tr>\n",
       "      <th>50%</th>\n",
       "      <td>1.000000e+00</td>\n",
       "      <td>0.000000e+00</td>\n",
       "      <td>0.000000e+00</td>\n",
       "      <td>-1.000000e-02</td>\n",
       "      <td>-4.870000e+00</td>\n",
       "      <td>-6.000000e-01</td>\n",
       "      <td>1.000000e+00</td>\n",
       "      <td>7.600000e-01</td>\n",
       "      <td>6.700000e-01</td>\n",
       "      <td>2.641500e+02</td>\n",
       "      <td>...</td>\n",
       "      <td>2.367710e+03</td>\n",
       "      <td>3.072890e+03</td>\n",
       "      <td>2.386120e+03</td>\n",
       "      <td>4.184153e+00</td>\n",
       "      <td>3.365515e-03</td>\n",
       "      <td>6.826790e+00</td>\n",
       "      <td>1.425700e-01</td>\n",
       "      <td>6.041731e+01</td>\n",
       "      <td>7.293860e+16</td>\n",
       "      <td>1.416852e+15</td>\n",
       "    </tr>\n",
       "    <tr>\n",
       "      <th>75%</th>\n",
       "      <td>1.000000e+00</td>\n",
       "      <td>0.000000e+00</td>\n",
       "      <td>0.000000e+00</td>\n",
       "      <td>3.140000e+00</td>\n",
       "      <td>9.600000e-01</td>\n",
       "      <td>1.430000e+00</td>\n",
       "      <td>1.740000e+00</td>\n",
       "      <td>1.380000e+00</td>\n",
       "      <td>1.190000e+00</td>\n",
       "      <td>3.091400e+02</td>\n",
       "      <td>...</td>\n",
       "      <td>2.659910e+03</td>\n",
       "      <td>3.283640e+03</td>\n",
       "      <td>2.698510e+03</td>\n",
       "      <td>4.927892e+00</td>\n",
       "      <td>8.113502e-03</td>\n",
       "      <td>3.371280e+01</td>\n",
       "      <td>2.194023e-01</td>\n",
       "      <td>1.005729e+02</td>\n",
       "      <td>4.664395e+18</td>\n",
       "      <td>4.612868e+18</td>\n",
       "    </tr>\n",
       "    <tr>\n",
       "      <th>max</th>\n",
       "      <td>1.000000e+00</td>\n",
       "      <td>1.000000e+00</td>\n",
       "      <td>1.000000e+00</td>\n",
       "      <td>5.934000e+01</td>\n",
       "      <td>2.668000e+01</td>\n",
       "      <td>6.482000e+01</td>\n",
       "      <td>3.873000e+01</td>\n",
       "      <td>1.568000e+01</td>\n",
       "      <td>2.442000e+01</td>\n",
       "      <td>4.704700e+02</td>\n",
       "      <td>...</td>\n",
       "      <td>1.411044e+04</td>\n",
       "      <td>1.013524e+04</td>\n",
       "      <td>1.187424e+04</td>\n",
       "      <td>1.184035e+01</td>\n",
       "      <td>1.981039e+00</td>\n",
       "      <td>5.611421e+05</td>\n",
       "      <td>4.631523e+00</td>\n",
       "      <td>1.947190e+03</td>\n",
       "      <td>9.223347e+18</td>\n",
       "      <td>9.223372e+18</td>\n",
       "    </tr>\n",
       "  </tbody>\n",
       "</table>\n",
       "<p>8 rows × 44 columns</p>\n",
       "</div>"
      ],
      "text/plain": [
       "                qs1           qs2           qs3           qs4           qs5  \\\n",
       "count  9.800713e+06  9.800713e+06  9.800713e+06  9.800713e+06  9.800713e+06   \n",
       "mean   9.918364e-01  5.252516e-03  2.858537e-03 -2.243750e-01 -5.766788e+00   \n",
       "std    6.377177e-02  5.143305e-02  3.607721e-02  9.952588e+00  8.868902e+00   \n",
       "min    0.000000e+00  0.000000e+00  0.000000e+00 -7.820000e+01 -6.771000e+01   \n",
       "25%    1.000000e+00  0.000000e+00  0.000000e+00 -3.220000e+00 -1.263000e+01   \n",
       "50%    1.000000e+00  0.000000e+00  0.000000e+00 -1.000000e-02 -4.870000e+00   \n",
       "75%    1.000000e+00  0.000000e+00  0.000000e+00  3.140000e+00  9.600000e-01   \n",
       "max    1.000000e+00  1.000000e+00  1.000000e+00  5.934000e+01  2.668000e+01   \n",
       "\n",
       "                qs6           qs7           qs8           qs9          qs10  \\\n",
       "count  9.800713e+06  9.800713e+06  9.800713e+06  9.800713e+06  9.800713e+06   \n",
       "mean  -7.422710e-01  1.264598e+00  9.991708e-01  8.592701e-01  2.561005e+02   \n",
       "std    4.565691e+00  1.158636e+00  8.948037e-01  7.733346e-01  7.512713e+01   \n",
       "min   -3.482000e+01  0.000000e+00  0.000000e+00  0.000000e+00 -2.980000e+02   \n",
       "25%   -2.850000e+00  4.700000e-01  3.500000e-01  3.100000e-01  2.112600e+02   \n",
       "50%   -6.000000e-01  1.000000e+00  7.600000e-01  6.700000e-01  2.641500e+02   \n",
       "75%    1.430000e+00  1.740000e+00  1.380000e+00  1.190000e+00  3.091400e+02   \n",
       "max    6.482000e+01  3.873000e+01  1.568000e+01  2.442000e+01  4.704700e+02   \n",
       "\n",
       "       ...            s9           s10           s11      canberra  \\\n",
       "count  ...  9.800713e+06  9.800713e+06  9.800713e+06  9.800713e+06   \n",
       "mean   ...  2.740128e+03  3.306104e+03  2.717576e+03  4.243066e+00   \n",
       "std    ...  1.361459e+03  8.474081e+02  1.207085e+03  1.092331e+00   \n",
       "min    ...  1.238680e+03  2.160870e+03  1.123050e+03  1.353562e-02   \n",
       "25%    ...  2.162600e+03  2.926560e+03  2.170650e+03  3.491038e+00   \n",
       "50%    ...  2.367710e+03  3.072890e+03  2.386120e+03  4.184153e+00   \n",
       "75%    ...  2.659910e+03  3.283640e+03  2.698510e+03  4.927892e+00   \n",
       "max    ...  1.411044e+04  1.013524e+04  1.187424e+04  1.184035e+01   \n",
       "\n",
       "             cosine          khi2    braycurtis     euclidian            QS  \\\n",
       "count  9.800713e+06  9.800713e+06  9.800713e+06  9.800713e+06  9.800713e+06   \n",
       "mean   1.659784e-02  1.070081e+01  1.727854e-01  7.434250e+01  4.732326e+16   \n",
       "std    9.567894e-02  1.115858e+03  1.243161e-01  5.313885e+01  5.337736e+18   \n",
       "min    4.905670e-07 -3.051626e+05  1.599573e-03  7.253964e-01 -9.223315e+18   \n",
       "25%    1.347677e-03 -1.366981e+01  9.077034e-02  3.476738e+01 -4.609988e+18   \n",
       "50%    3.365515e-03  6.826790e+00  1.425700e-01  6.041731e+01  7.293860e+16   \n",
       "75%    8.113502e-03  3.371280e+01  2.194023e-01  1.005729e+02  4.664395e+18   \n",
       "max    1.981039e+00  5.611421e+05  4.631523e+00  1.947190e+03  9.223347e+18   \n",
       "\n",
       "                 QR  \n",
       "count  9.800713e+06  \n",
       "mean   2.644986e+12  \n",
       "std    5.324747e+18  \n",
       "min   -9.223370e+18  \n",
       "25%   -4.609368e+18  \n",
       "50%    1.416852e+15  \n",
       "75%    4.612868e+18  \n",
       "max    9.223372e+18  \n",
       "\n",
       "[8 rows x 44 columns]"
      ]
     },
     "execution_count": 10,
     "metadata": {},
     "output_type": "execute_result"
    }
   ],
   "source": [
    "train_data.describe()"
   ]
  },
  {
   "cell_type": "code",
   "execution_count": 9,
   "metadata": {},
   "outputs": [],
   "source": [
    "# Load test data\n",
    "xtest = pd.read_csv('data/xtest_challenge.csv')"
   ]
  },
  {
   "cell_type": "code",
   "execution_count": 10,
   "metadata": {},
   "outputs": [],
   "source": [
    "xtest[\"canberra\"]=distance_canberra_mat(xtest[cols_qr].values, xtest[cols_qs].values)\n",
    "xtest[\"cosine\"]=distance_cosine_mat(xtest[cols_qr].values, xtest[cols_qs].values)\n",
    "xtest[\"khi2\"]=distance_khi2_mat(xtest[cols_qr].values,xtest[cols_qs].values)\n",
    "xtest[\"braycurtis\"]=distance_braycurtis_mat(xtest[cols_qr].values,xtest[cols_qs].values)\n",
    "xtest[\"euclidian\"]=distance_eucl_mat(xtest[cols_qr].values,xtest[cols_qs].values)"
   ]
  },
  {
   "cell_type": "code",
   "execution_count": 13,
   "metadata": {},
   "outputs": [
    {
     "data": {
      "text/html": [
       "<div>\n",
       "<style scoped>\n",
       "    .dataframe tbody tr th:only-of-type {\n",
       "        vertical-align: middle;\n",
       "    }\n",
       "\n",
       "    .dataframe tbody tr th {\n",
       "        vertical-align: top;\n",
       "    }\n",
       "\n",
       "    .dataframe thead th {\n",
       "        text-align: right;\n",
       "    }\n",
       "</style>\n",
       "<table border=\"1\" class=\"dataframe\">\n",
       "  <thead>\n",
       "    <tr style=\"text-align: right;\">\n",
       "      <th></th>\n",
       "      <th>qs1</th>\n",
       "      <th>qs2</th>\n",
       "      <th>qs3</th>\n",
       "      <th>qs4</th>\n",
       "      <th>qs5</th>\n",
       "      <th>qs6</th>\n",
       "      <th>qs7</th>\n",
       "      <th>qs8</th>\n",
       "      <th>qs9</th>\n",
       "      <th>qs10</th>\n",
       "      <th>...</th>\n",
       "      <th>s7</th>\n",
       "      <th>s8</th>\n",
       "      <th>s9</th>\n",
       "      <th>s10</th>\n",
       "      <th>s11</th>\n",
       "      <th>canberra</th>\n",
       "      <th>cosine</th>\n",
       "      <th>khi2</th>\n",
       "      <th>braycurtis</th>\n",
       "      <th>euclidian</th>\n",
       "    </tr>\n",
       "  </thead>\n",
       "  <tbody>\n",
       "    <tr>\n",
       "      <th>count</th>\n",
       "      <td>3.768311e+06</td>\n",
       "      <td>3.768311e+06</td>\n",
       "      <td>3.768311e+06</td>\n",
       "      <td>3.768311e+06</td>\n",
       "      <td>3.768311e+06</td>\n",
       "      <td>3.768311e+06</td>\n",
       "      <td>3.768311e+06</td>\n",
       "      <td>3.768311e+06</td>\n",
       "      <td>3.768311e+06</td>\n",
       "      <td>3.768311e+06</td>\n",
       "      <td>...</td>\n",
       "      <td>3.768311e+06</td>\n",
       "      <td>3.768311e+06</td>\n",
       "      <td>3.768311e+06</td>\n",
       "      <td>3.768311e+06</td>\n",
       "      <td>3.768311e+06</td>\n",
       "      <td>3.768311e+06</td>\n",
       "      <td>3.768311e+06</td>\n",
       "      <td>3.768311e+06</td>\n",
       "      <td>3.768311e+06</td>\n",
       "      <td>3.768311e+06</td>\n",
       "    </tr>\n",
       "    <tr>\n",
       "      <th>mean</th>\n",
       "      <td>9.927863e-01</td>\n",
       "      <td>4.310032e-03</td>\n",
       "      <td>2.860953e-03</td>\n",
       "      <td>1.574280e-01</td>\n",
       "      <td>-5.835045e+00</td>\n",
       "      <td>-5.682256e-01</td>\n",
       "      <td>1.242306e+00</td>\n",
       "      <td>9.726340e-01</td>\n",
       "      <td>8.281594e-01</td>\n",
       "      <td>2.518609e+02</td>\n",
       "      <td>...</td>\n",
       "      <td>2.198468e+03</td>\n",
       "      <td>2.285049e+03</td>\n",
       "      <td>2.567436e+03</td>\n",
       "      <td>3.198011e+03</td>\n",
       "      <td>2.570077e+03</td>\n",
       "      <td>4.235104e+00</td>\n",
       "      <td>1.638737e-02</td>\n",
       "      <td>1.267799e+01</td>\n",
       "      <td>1.721996e-01</td>\n",
       "      <td>7.323465e+01</td>\n",
       "    </tr>\n",
       "    <tr>\n",
       "      <th>std</th>\n",
       "      <td>5.887766e-02</td>\n",
       "      <td>4.599935e-02</td>\n",
       "      <td>3.586661e-02</td>\n",
       "      <td>9.244392e+00</td>\n",
       "      <td>8.968709e+00</td>\n",
       "      <td>4.316559e+00</td>\n",
       "      <td>1.167329e+00</td>\n",
       "      <td>8.767055e-01</td>\n",
       "      <td>7.400339e-01</td>\n",
       "      <td>7.495040e+01</td>\n",
       "      <td>...</td>\n",
       "      <td>1.061593e+03</td>\n",
       "      <td>1.085586e+03</td>\n",
       "      <td>9.946063e+02</td>\n",
       "      <td>6.084623e+02</td>\n",
       "      <td>8.879480e+02</td>\n",
       "      <td>1.091056e+00</td>\n",
       "      <td>9.384112e-02</td>\n",
       "      <td>1.045572e+03</td>\n",
       "      <td>1.257299e-01</td>\n",
       "      <td>5.256339e+01</td>\n",
       "    </tr>\n",
       "    <tr>\n",
       "      <th>min</th>\n",
       "      <td>0.000000e+00</td>\n",
       "      <td>0.000000e+00</td>\n",
       "      <td>0.000000e+00</td>\n",
       "      <td>-5.761000e+01</td>\n",
       "      <td>-5.143000e+01</td>\n",
       "      <td>-2.531000e+01</td>\n",
       "      <td>0.000000e+00</td>\n",
       "      <td>0.000000e+00</td>\n",
       "      <td>0.000000e+00</td>\n",
       "      <td>-2.651600e+02</td>\n",
       "      <td>...</td>\n",
       "      <td>3.487100e+02</td>\n",
       "      <td>4.273800e+02</td>\n",
       "      <td>1.286340e+03</td>\n",
       "      <td>2.236650e+03</td>\n",
       "      <td>1.134200e+03</td>\n",
       "      <td>2.263297e-03</td>\n",
       "      <td>1.658806e-07</td>\n",
       "      <td>-2.444028e+05</td>\n",
       "      <td>2.303882e-04</td>\n",
       "      <td>1.200000e-01</td>\n",
       "    </tr>\n",
       "    <tr>\n",
       "      <th>25%</th>\n",
       "      <td>1.000000e+00</td>\n",
       "      <td>0.000000e+00</td>\n",
       "      <td>0.000000e+00</td>\n",
       "      <td>-2.640000e+00</td>\n",
       "      <td>-1.280000e+01</td>\n",
       "      <td>-2.510000e+00</td>\n",
       "      <td>4.500000e-01</td>\n",
       "      <td>3.400000e-01</td>\n",
       "      <td>3.000000e-01</td>\n",
       "      <td>2.071100e+02</td>\n",
       "      <td>...</td>\n",
       "      <td>1.717600e+03</td>\n",
       "      <td>1.793770e+03</td>\n",
       "      <td>2.157940e+03</td>\n",
       "      <td>2.923820e+03</td>\n",
       "      <td>2.169140e+03</td>\n",
       "      <td>3.483525e+00</td>\n",
       "      <td>1.262143e-03</td>\n",
       "      <td>-1.186449e+01</td>\n",
       "      <td>8.948902e-02</td>\n",
       "      <td>3.391126e+01</td>\n",
       "    </tr>\n",
       "    <tr>\n",
       "      <th>50%</th>\n",
       "      <td>1.000000e+00</td>\n",
       "      <td>0.000000e+00</td>\n",
       "      <td>0.000000e+00</td>\n",
       "      <td>1.000000e-01</td>\n",
       "      <td>-5.090000e+00</td>\n",
       "      <td>-5.200000e-01</td>\n",
       "      <td>9.600000e-01</td>\n",
       "      <td>7.400000e-01</td>\n",
       "      <td>6.500000e-01</td>\n",
       "      <td>2.582500e+02</td>\n",
       "      <td>...</td>\n",
       "      <td>1.975820e+03</td>\n",
       "      <td>2.060690e+03</td>\n",
       "      <td>2.358030e+03</td>\n",
       "      <td>3.066190e+03</td>\n",
       "      <td>2.379410e+03</td>\n",
       "      <td>4.176517e+00</td>\n",
       "      <td>3.188195e-03</td>\n",
       "      <td>7.165059e+00</td>\n",
       "      <td>1.417600e-01</td>\n",
       "      <td>5.954016e+01</td>\n",
       "    </tr>\n",
       "    <tr>\n",
       "      <th>75%</th>\n",
       "      <td>1.000000e+00</td>\n",
       "      <td>0.000000e+00</td>\n",
       "      <td>0.000000e+00</td>\n",
       "      <td>2.990000e+00</td>\n",
       "      <td>9.000000e-01</td>\n",
       "      <td>1.380000e+00</td>\n",
       "      <td>1.710000e+00</td>\n",
       "      <td>1.350000e+00</td>\n",
       "      <td>1.140000e+00</td>\n",
       "      <td>3.050300e+02</td>\n",
       "      <td>...</td>\n",
       "      <td>2.321820e+03</td>\n",
       "      <td>2.414130e+03</td>\n",
       "      <td>2.625150e+03</td>\n",
       "      <td>3.259740e+03</td>\n",
       "      <td>2.664690e+03</td>\n",
       "      <td>4.918782e+00</td>\n",
       "      <td>7.812440e-03</td>\n",
       "      <td>3.324913e+01</td>\n",
       "      <td>2.191031e-01</td>\n",
       "      <td>9.941349e+01</td>\n",
       "    </tr>\n",
       "    <tr>\n",
       "      <th>max</th>\n",
       "      <td>1.000000e+00</td>\n",
       "      <td>1.000000e+00</td>\n",
       "      <td>1.000000e+00</td>\n",
       "      <td>6.297000e+01</td>\n",
       "      <td>2.413000e+01</td>\n",
       "      <td>2.770000e+01</td>\n",
       "      <td>3.340000e+01</td>\n",
       "      <td>9.430000e+00</td>\n",
       "      <td>1.420000e+01</td>\n",
       "      <td>4.814200e+02</td>\n",
       "      <td>...</td>\n",
       "      <td>1.306624e+04</td>\n",
       "      <td>1.471272e+04</td>\n",
       "      <td>1.373343e+04</td>\n",
       "      <td>9.316200e+03</td>\n",
       "      <td>1.148053e+04</td>\n",
       "      <td>1.182820e+01</td>\n",
       "      <td>1.984838e+00</td>\n",
       "      <td>3.916112e+05</td>\n",
       "      <td>6.203517e+00</td>\n",
       "      <td>1.485462e+03</td>\n",
       "    </tr>\n",
       "  </tbody>\n",
       "</table>\n",
       "<p>8 rows × 42 columns</p>\n",
       "</div>"
      ],
      "text/plain": [
       "                qs1           qs2           qs3           qs4           qs5  \\\n",
       "count  3.768311e+06  3.768311e+06  3.768311e+06  3.768311e+06  3.768311e+06   \n",
       "mean   9.927863e-01  4.310032e-03  2.860953e-03  1.574280e-01 -5.835045e+00   \n",
       "std    5.887766e-02  4.599935e-02  3.586661e-02  9.244392e+00  8.968709e+00   \n",
       "min    0.000000e+00  0.000000e+00  0.000000e+00 -5.761000e+01 -5.143000e+01   \n",
       "25%    1.000000e+00  0.000000e+00  0.000000e+00 -2.640000e+00 -1.280000e+01   \n",
       "50%    1.000000e+00  0.000000e+00  0.000000e+00  1.000000e-01 -5.090000e+00   \n",
       "75%    1.000000e+00  0.000000e+00  0.000000e+00  2.990000e+00  9.000000e-01   \n",
       "max    1.000000e+00  1.000000e+00  1.000000e+00  6.297000e+01  2.413000e+01   \n",
       "\n",
       "                qs6           qs7           qs8           qs9          qs10  \\\n",
       "count  3.768311e+06  3.768311e+06  3.768311e+06  3.768311e+06  3.768311e+06   \n",
       "mean  -5.682256e-01  1.242306e+00  9.726340e-01  8.281594e-01  2.518609e+02   \n",
       "std    4.316559e+00  1.167329e+00  8.767055e-01  7.400339e-01  7.495040e+01   \n",
       "min   -2.531000e+01  0.000000e+00  0.000000e+00  0.000000e+00 -2.651600e+02   \n",
       "25%   -2.510000e+00  4.500000e-01  3.400000e-01  3.000000e-01  2.071100e+02   \n",
       "50%   -5.200000e-01  9.600000e-01  7.400000e-01  6.500000e-01  2.582500e+02   \n",
       "75%    1.380000e+00  1.710000e+00  1.350000e+00  1.140000e+00  3.050300e+02   \n",
       "max    2.770000e+01  3.340000e+01  9.430000e+00  1.420000e+01  4.814200e+02   \n",
       "\n",
       "       ...            s7            s8            s9           s10  \\\n",
       "count  ...  3.768311e+06  3.768311e+06  3.768311e+06  3.768311e+06   \n",
       "mean   ...  2.198468e+03  2.285049e+03  2.567436e+03  3.198011e+03   \n",
       "std    ...  1.061593e+03  1.085586e+03  9.946063e+02  6.084623e+02   \n",
       "min    ...  3.487100e+02  4.273800e+02  1.286340e+03  2.236650e+03   \n",
       "25%    ...  1.717600e+03  1.793770e+03  2.157940e+03  2.923820e+03   \n",
       "50%    ...  1.975820e+03  2.060690e+03  2.358030e+03  3.066190e+03   \n",
       "75%    ...  2.321820e+03  2.414130e+03  2.625150e+03  3.259740e+03   \n",
       "max    ...  1.306624e+04  1.471272e+04  1.373343e+04  9.316200e+03   \n",
       "\n",
       "                s11      canberra        cosine          khi2    braycurtis  \\\n",
       "count  3.768311e+06  3.768311e+06  3.768311e+06  3.768311e+06  3.768311e+06   \n",
       "mean   2.570077e+03  4.235104e+00  1.638737e-02  1.267799e+01  1.721996e-01   \n",
       "std    8.879480e+02  1.091056e+00  9.384112e-02  1.045572e+03  1.257299e-01   \n",
       "min    1.134200e+03  2.263297e-03  1.658806e-07 -2.444028e+05  2.303882e-04   \n",
       "25%    2.169140e+03  3.483525e+00  1.262143e-03 -1.186449e+01  8.948902e-02   \n",
       "50%    2.379410e+03  4.176517e+00  3.188195e-03  7.165059e+00  1.417600e-01   \n",
       "75%    2.664690e+03  4.918782e+00  7.812440e-03  3.324913e+01  2.191031e-01   \n",
       "max    1.148053e+04  1.182820e+01  1.984838e+00  3.916112e+05  6.203517e+00   \n",
       "\n",
       "          euclidian  \n",
       "count  3.768311e+06  \n",
       "mean   7.323465e+01  \n",
       "std    5.256339e+01  \n",
       "min    1.200000e-01  \n",
       "25%    3.391126e+01  \n",
       "50%    5.954016e+01  \n",
       "75%    9.941349e+01  \n",
       "max    1.485462e+03  \n",
       "\n",
       "[8 rows x 42 columns]"
      ]
     },
     "execution_count": 13,
     "metadata": {},
     "output_type": "execute_result"
    }
   ],
   "source": [
    "xtest.describe()"
   ]
  },
  {
   "cell_type": "markdown",
   "metadata": {},
   "source": [
    "On va calculer des distances entre les features Q1-13 et Q13-26\n",
    "\n",
    "https://www.cs.toronto.edu/~ranzato/publications/taigman_cvpr14.pdf\n"
   ]
  },
  {
   "cell_type": "code",
   "execution_count": 14,
   "metadata": {},
   "outputs": [],
   "source": [
    "# Calcul d'un SVM pour connaitre les coefficients des features"
   ]
  },
  {
   "cell_type": "code",
   "execution_count": 11,
   "metadata": {},
   "outputs": [
    {
     "data": {
      "text/plain": [
       "(196014, 13)"
      ]
     },
     "execution_count": 11,
     "metadata": {},
     "output_type": "execute_result"
    }
   ],
   "source": [
    "from sklearn import svm\n",
    "clf = svm.LinearSVC()\n",
    "\n",
    "d1 = train_data[cols_qs].values\n",
    "d2 = train_data[cols_qr].values\n",
    "\n",
    "divide = d1 + d2 \n",
    "X = np.divide((d1-d2)**2, divide, where=divide!=0)\n",
    "\n",
    "X_SVM, X_SVM_test, y_SVM, y_SVM_test = train_test_split(X, ytrain, test_size=0.98) # SVM on 2% of data\n",
    "\n",
    "X_SVM.shape"
   ]
  },
  {
   "cell_type": "code",
   "execution_count": 12,
   "metadata": {},
   "outputs": [
    {
     "name": "stderr",
     "output_type": "stream",
     "text": [
      "C:\\Users\\martinez\\AppData\\Local\\Continuum\\anaconda3\\lib\\site-packages\\sklearn\\utils\\validation.py:760: DataConversionWarning: A column-vector y was passed when a 1d array was expected. Please change the shape of y to (n_samples, ), for example using ravel().\n",
      "  y = column_or_1d(y, warn=True)\n",
      "C:\\Users\\martinez\\AppData\\Local\\Continuum\\anaconda3\\lib\\site-packages\\sklearn\\svm\\_base.py:947: ConvergenceWarning: Liblinear failed to converge, increase the number of iterations.\n",
      "  \"the number of iterations.\", ConvergenceWarning)\n"
     ]
    },
    {
     "data": {
      "text/plain": [
       "LinearSVC(C=1.0, class_weight=None, dual=True, fit_intercept=True,\n",
       "          intercept_scaling=1, loss='squared_hinge', max_iter=1000,\n",
       "          multi_class='ovr', penalty='l2', random_state=None, tol=0.0001,\n",
       "          verbose=0)"
      ]
     },
     "execution_count": 12,
     "metadata": {},
     "output_type": "execute_result"
    }
   ],
   "source": [
    "clf.fit(X_SVM, y_SVM)"
   ]
  },
  {
   "cell_type": "code",
   "execution_count": 13,
   "metadata": {},
   "outputs": [],
   "source": [
    "w = clf.coef_"
   ]
  },
  {
   "cell_type": "code",
   "execution_count": 15,
   "metadata": {},
   "outputs": [],
   "source": [
    "xtest[\"khi2 W\"]=distance_khi2_mat_w(xtest[cols_qr].values,xtest[cols_qs].values, w)\n",
    "train_data[\"khi2_W\"]=distance_khi2_mat_w(train_data[cols_qr].values,train_data[cols_qs].values,w)"
   ]
  },
  {
   "cell_type": "code",
   "execution_count": null,
   "metadata": {},
   "outputs": [],
   "source": [
    "ytrain[xtrain.qr9 >xtrain.qs9.max()].index"
   ]
  },
  {
   "cell_type": "code",
   "execution_count": null,
   "metadata": {},
   "outputs": [],
   "source": [
    "ytrain[xtrain.qr1 >xtrain.qs1.max()].index"
   ]
  },
  {
   "cell_type": "code",
   "execution_count": null,
   "metadata": {},
   "outputs": [],
   "source": [
    "xtest[xtest.qr1>1].index"
   ]
  },
  {
   "cell_type": "code",
   "execution_count": null,
   "metadata": {},
   "outputs": [],
   "source": [
    "xtest[xtest.qr9> xtrain.qs9.max()].index"
   ]
  },
  {
   "cell_type": "code",
   "execution_count": 16,
   "metadata": {},
   "outputs": [],
   "source": [
    "xtrain_clean = xtrain[xtrain.qr1<=1]\n",
    "\n"
   ]
  },
  {
   "cell_type": "code",
   "execution_count": null,
   "metadata": {},
   "outputs": [],
   "source": [
    "xtrain_clean.describe()"
   ]
  },
  {
   "cell_type": "code",
   "execution_count": 44,
   "metadata": {},
   "outputs": [],
   "source": [
    "qs_unique = len(xtrain_clean.QS.unique())"
   ]
  },
  {
   "cell_type": "markdown",
   "metadata": {},
   "source": [
    "##### for c in list(xtrain_clean.columns):\n",
    "    xtrain_clean[c].plot(kind='hist', bins=30, logy=True)   \n",
    "    plt.title(c)\n",
    "    plt.show()    \n",
    "    xtrain_clean[c].plot(kind='hist', bins=30)\n",
    "    plt.title(c)\n",
    "    plt.show()"
   ]
  },
  {
   "cell_type": "code",
   "execution_count": 45,
   "metadata": {},
   "outputs": [
    {
     "data": {
      "text/plain": [
       "9145789"
      ]
     },
     "execution_count": 45,
     "metadata": {},
     "output_type": "execute_result"
    }
   ],
   "source": [
    "len(xtrain_clean.QR.unique())"
   ]
  },
  {
   "cell_type": "code",
   "execution_count": 54,
   "metadata": {},
   "outputs": [],
   "source": [
    "ytrain_clean = ytrain[xtrain.qr1 <=1]\n",
    "yone = ytrain_clean[ytrain_clean==1]\n",
    "\n",
    "import math\n",
    "\n",
    "choosen = sk.utils.random.sample_without_replacement(qs_unique,qs_unique//8)\n",
    "\n",
    "# get the hash of the data\n",
    "qs = xtrain_clean.QS.iloc[choosen].values\n",
    "\n",
    "\n",
    "\n"
   ]
  },
  {
   "cell_type": "code",
   "execution_count": 55,
   "metadata": {},
   "outputs": [],
   "source": [
    "indices = np.in1d(xtrain_clean.QS.values, qs)"
   ]
  },
  {
   "cell_type": "code",
   "execution_count": 56,
   "metadata": {},
   "outputs": [
    {
     "data": {
      "text/plain": [
       "2508140"
      ]
     },
     "execution_count": 56,
     "metadata": {},
     "output_type": "execute_result"
    }
   ],
   "source": [
    "xtrain_clean.QS[indices].count()"
   ]
  },
  {
   "cell_type": "code",
   "execution_count": 57,
   "metadata": {},
   "outputs": [],
   "source": [
    "\n",
    "#X_train, X_test, y_train, y_test = train_test_split(xtrain_clean, ytrain[xtrain.qr1 <=1], test_size=0.33, random_state=42)\n",
    "\n",
    "X_train= xtrain_clean[][~indices]\n",
    "X_test=xtrain_clean[indices]\n",
    "y_train= ytrain_clean[~indices]\n",
    "y_test=ytrain_clean[indices]\n"
   ]
  },
  {
   "cell_type": "code",
   "execution_count": 59,
   "metadata": {},
   "outputs": [],
   "source": [
    "cols_active = list(train_data.columns)\n",
    "\n",
    "remove_list=[\"QS\",\"QR\"] #, \"qs1\",\"qr1\",\"qs2\",\"qr2\",\"qs3\",\"qr3\",\"qs12\",\"qr12\"]    \n",
    "for i in remove_list: \n",
    "    try: \n",
    "        cols_active.remove(i) \n",
    "    except ValueError: \n",
    "        pass\n",
    "    "
   ]
  },
  {
   "cell_type": "code",
   "execution_count": 62,
   "metadata": {},
   "outputs": [
    {
     "ename": "MemoryError",
     "evalue": "Unable to allocate 2.34 GiB for an array with shape (43, 7292505) and data type float64",
     "output_type": "error",
     "traceback": [
      "\u001b[1;31m---------------------------------------------------------------------------\u001b[0m",
      "\u001b[1;31mMemoryError\u001b[0m                               Traceback (most recent call last)",
      "\u001b[1;32m<ipython-input-62-1e027cc7f641>\u001b[0m in \u001b[0;36m<module>\u001b[1;34m\u001b[0m\n\u001b[0;32m      1\u001b[0m \u001b[1;32mimport\u001b[0m \u001b[0mlightgbm\u001b[0m\u001b[1;33m\u001b[0m\u001b[1;33m\u001b[0m\u001b[0m\n\u001b[0;32m      2\u001b[0m \u001b[1;31m# making lgbm datasets for train and valid\u001b[0m\u001b[1;33m\u001b[0m\u001b[1;33m\u001b[0m\u001b[1;33m\u001b[0m\u001b[0m\n\u001b[1;32m----> 3\u001b[1;33m \u001b[0md_train\u001b[0m \u001b[1;33m=\u001b[0m \u001b[0mlightgbm\u001b[0m\u001b[1;33m.\u001b[0m\u001b[0mDataset\u001b[0m\u001b[1;33m(\u001b[0m\u001b[0mX_train\u001b[0m\u001b[1;33m[\u001b[0m\u001b[0mcols_active\u001b[0m\u001b[1;33m]\u001b[0m\u001b[1;33m,\u001b[0m \u001b[0my_train\u001b[0m\u001b[1;33m)\u001b[0m\u001b[1;33m\u001b[0m\u001b[1;33m\u001b[0m\u001b[0m\n\u001b[0m\u001b[0;32m      4\u001b[0m \u001b[0md_valid\u001b[0m \u001b[1;33m=\u001b[0m \u001b[0mlightgbm\u001b[0m\u001b[1;33m.\u001b[0m\u001b[0mDataset\u001b[0m\u001b[1;33m(\u001b[0m\u001b[0mX_test\u001b[0m\u001b[1;33m[\u001b[0m\u001b[0mcols_active\u001b[0m\u001b[1;33m]\u001b[0m\u001b[1;33m,\u001b[0m \u001b[0my_test\u001b[0m\u001b[1;33m)\u001b[0m\u001b[1;33m\u001b[0m\u001b[1;33m\u001b[0m\u001b[0m\n\u001b[0;32m      5\u001b[0m \u001b[1;33m\u001b[0m\u001b[0m\n",
      "\u001b[1;32m~\\AppData\\Local\\Continuum\\anaconda3\\lib\\site-packages\\pandas\\core\\frame.py\u001b[0m in \u001b[0;36m__getitem__\u001b[1;34m(self, key)\u001b[0m\n\u001b[0;32m   3005\u001b[0m             \u001b[0mindexer\u001b[0m \u001b[1;33m=\u001b[0m \u001b[0mnp\u001b[0m\u001b[1;33m.\u001b[0m\u001b[0mwhere\u001b[0m\u001b[1;33m(\u001b[0m\u001b[0mindexer\u001b[0m\u001b[1;33m)\u001b[0m\u001b[1;33m[\u001b[0m\u001b[1;36m0\u001b[0m\u001b[1;33m]\u001b[0m\u001b[1;33m\u001b[0m\u001b[1;33m\u001b[0m\u001b[0m\n\u001b[0;32m   3006\u001b[0m \u001b[1;33m\u001b[0m\u001b[0m\n\u001b[1;32m-> 3007\u001b[1;33m         \u001b[0mdata\u001b[0m \u001b[1;33m=\u001b[0m \u001b[0mself\u001b[0m\u001b[1;33m.\u001b[0m\u001b[0mtake\u001b[0m\u001b[1;33m(\u001b[0m\u001b[0mindexer\u001b[0m\u001b[1;33m,\u001b[0m \u001b[0maxis\u001b[0m\u001b[1;33m=\u001b[0m\u001b[1;36m1\u001b[0m\u001b[1;33m)\u001b[0m\u001b[1;33m\u001b[0m\u001b[1;33m\u001b[0m\u001b[0m\n\u001b[0m\u001b[0;32m   3008\u001b[0m \u001b[1;33m\u001b[0m\u001b[0m\n\u001b[0;32m   3009\u001b[0m         \u001b[1;32mif\u001b[0m \u001b[0mis_single_key\u001b[0m\u001b[1;33m:\u001b[0m\u001b[1;33m\u001b[0m\u001b[1;33m\u001b[0m\u001b[0m\n",
      "\u001b[1;32m~\\AppData\\Local\\Continuum\\anaconda3\\lib\\site-packages\\pandas\\core\\generic.py\u001b[0m in \u001b[0;36mtake\u001b[1;34m(self, indices, axis, is_copy, **kwargs)\u001b[0m\n\u001b[0;32m   3602\u001b[0m \u001b[1;33m\u001b[0m\u001b[0m\n\u001b[0;32m   3603\u001b[0m         new_data = self._data.take(\n\u001b[1;32m-> 3604\u001b[1;33m             \u001b[0mindices\u001b[0m\u001b[1;33m,\u001b[0m \u001b[0maxis\u001b[0m\u001b[1;33m=\u001b[0m\u001b[0mself\u001b[0m\u001b[1;33m.\u001b[0m\u001b[0m_get_block_manager_axis\u001b[0m\u001b[1;33m(\u001b[0m\u001b[0maxis\u001b[0m\u001b[1;33m)\u001b[0m\u001b[1;33m,\u001b[0m \u001b[0mverify\u001b[0m\u001b[1;33m=\u001b[0m\u001b[1;32mTrue\u001b[0m\u001b[1;33m\u001b[0m\u001b[1;33m\u001b[0m\u001b[0m\n\u001b[0m\u001b[0;32m   3605\u001b[0m         )\n\u001b[0;32m   3606\u001b[0m         \u001b[0mresult\u001b[0m \u001b[1;33m=\u001b[0m \u001b[0mself\u001b[0m\u001b[1;33m.\u001b[0m\u001b[0m_constructor\u001b[0m\u001b[1;33m(\u001b[0m\u001b[0mnew_data\u001b[0m\u001b[1;33m)\u001b[0m\u001b[1;33m.\u001b[0m\u001b[0m__finalize__\u001b[0m\u001b[1;33m(\u001b[0m\u001b[0mself\u001b[0m\u001b[1;33m)\u001b[0m\u001b[1;33m\u001b[0m\u001b[1;33m\u001b[0m\u001b[0m\n",
      "\u001b[1;32m~\\AppData\\Local\\Continuum\\anaconda3\\lib\\site-packages\\pandas\\core\\internals\\managers.py\u001b[0m in \u001b[0;36mtake\u001b[1;34m(self, indexer, axis, verify, convert)\u001b[0m\n\u001b[0;32m   1395\u001b[0m         \u001b[0mnew_labels\u001b[0m \u001b[1;33m=\u001b[0m \u001b[0mself\u001b[0m\u001b[1;33m.\u001b[0m\u001b[0maxes\u001b[0m\u001b[1;33m[\u001b[0m\u001b[0maxis\u001b[0m\u001b[1;33m]\u001b[0m\u001b[1;33m.\u001b[0m\u001b[0mtake\u001b[0m\u001b[1;33m(\u001b[0m\u001b[0mindexer\u001b[0m\u001b[1;33m)\u001b[0m\u001b[1;33m\u001b[0m\u001b[1;33m\u001b[0m\u001b[0m\n\u001b[0;32m   1396\u001b[0m         return self.reindex_indexer(\n\u001b[1;32m-> 1397\u001b[1;33m             \u001b[0mnew_axis\u001b[0m\u001b[1;33m=\u001b[0m\u001b[0mnew_labels\u001b[0m\u001b[1;33m,\u001b[0m \u001b[0mindexer\u001b[0m\u001b[1;33m=\u001b[0m\u001b[0mindexer\u001b[0m\u001b[1;33m,\u001b[0m \u001b[0maxis\u001b[0m\u001b[1;33m=\u001b[0m\u001b[0maxis\u001b[0m\u001b[1;33m,\u001b[0m \u001b[0mallow_dups\u001b[0m\u001b[1;33m=\u001b[0m\u001b[1;32mTrue\u001b[0m\u001b[1;33m\u001b[0m\u001b[1;33m\u001b[0m\u001b[0m\n\u001b[0m\u001b[0;32m   1398\u001b[0m         )\n\u001b[0;32m   1399\u001b[0m \u001b[1;33m\u001b[0m\u001b[0m\n",
      "\u001b[1;32m~\\AppData\\Local\\Continuum\\anaconda3\\lib\\site-packages\\pandas\\core\\internals\\managers.py\u001b[0m in \u001b[0;36mreindex_indexer\u001b[1;34m(self, new_axis, indexer, axis, fill_value, allow_dups, copy)\u001b[0m\n\u001b[0;32m   1255\u001b[0m \u001b[1;33m\u001b[0m\u001b[0m\n\u001b[0;32m   1256\u001b[0m         \u001b[1;32mif\u001b[0m \u001b[0maxis\u001b[0m \u001b[1;33m==\u001b[0m \u001b[1;36m0\u001b[0m\u001b[1;33m:\u001b[0m\u001b[1;33m\u001b[0m\u001b[1;33m\u001b[0m\u001b[0m\n\u001b[1;32m-> 1257\u001b[1;33m             \u001b[0mnew_blocks\u001b[0m \u001b[1;33m=\u001b[0m \u001b[0mself\u001b[0m\u001b[1;33m.\u001b[0m\u001b[0m_slice_take_blocks_ax0\u001b[0m\u001b[1;33m(\u001b[0m\u001b[0mindexer\u001b[0m\u001b[1;33m,\u001b[0m \u001b[0mfill_tuple\u001b[0m\u001b[1;33m=\u001b[0m\u001b[1;33m(\u001b[0m\u001b[0mfill_value\u001b[0m\u001b[1;33m,\u001b[0m\u001b[1;33m)\u001b[0m\u001b[1;33m)\u001b[0m\u001b[1;33m\u001b[0m\u001b[1;33m\u001b[0m\u001b[0m\n\u001b[0m\u001b[0;32m   1258\u001b[0m         \u001b[1;32melse\u001b[0m\u001b[1;33m:\u001b[0m\u001b[1;33m\u001b[0m\u001b[1;33m\u001b[0m\u001b[0m\n\u001b[0;32m   1259\u001b[0m             new_blocks = [\n",
      "\u001b[1;32m~\\AppData\\Local\\Continuum\\anaconda3\\lib\\site-packages\\pandas\\core\\internals\\managers.py\u001b[0m in \u001b[0;36m_slice_take_blocks_ax0\u001b[1;34m(self, slice_or_indexer, fill_tuple)\u001b[0m\n\u001b[0;32m   1355\u001b[0m                             \u001b[0maxis\u001b[0m\u001b[1;33m=\u001b[0m\u001b[1;36m0\u001b[0m\u001b[1;33m,\u001b[0m\u001b[1;33m\u001b[0m\u001b[1;33m\u001b[0m\u001b[0m\n\u001b[0;32m   1356\u001b[0m                             \u001b[0mnew_mgr_locs\u001b[0m\u001b[1;33m=\u001b[0m\u001b[0mmgr_locs\u001b[0m\u001b[1;33m,\u001b[0m\u001b[1;33m\u001b[0m\u001b[1;33m\u001b[0m\u001b[0m\n\u001b[1;32m-> 1357\u001b[1;33m                             \u001b[0mfill_tuple\u001b[0m\u001b[1;33m=\u001b[0m\u001b[1;32mNone\u001b[0m\u001b[1;33m,\u001b[0m\u001b[1;33m\u001b[0m\u001b[1;33m\u001b[0m\u001b[0m\n\u001b[0m\u001b[0;32m   1358\u001b[0m                         )\n\u001b[0;32m   1359\u001b[0m                     )\n",
      "\u001b[1;32m~\\AppData\\Local\\Continuum\\anaconda3\\lib\\site-packages\\pandas\\core\\internals\\blocks.py\u001b[0m in \u001b[0;36mtake_nd\u001b[1;34m(self, indexer, axis, new_mgr_locs, fill_tuple)\u001b[0m\n\u001b[0;32m   1311\u001b[0m \u001b[1;33m\u001b[0m\u001b[0m\n\u001b[0;32m   1312\u001b[0m         new_values = algos.take_nd(\n\u001b[1;32m-> 1313\u001b[1;33m             \u001b[0mvalues\u001b[0m\u001b[1;33m,\u001b[0m \u001b[0mindexer\u001b[0m\u001b[1;33m,\u001b[0m \u001b[0maxis\u001b[0m\u001b[1;33m=\u001b[0m\u001b[0maxis\u001b[0m\u001b[1;33m,\u001b[0m \u001b[0mallow_fill\u001b[0m\u001b[1;33m=\u001b[0m\u001b[0mallow_fill\u001b[0m\u001b[1;33m,\u001b[0m \u001b[0mfill_value\u001b[0m\u001b[1;33m=\u001b[0m\u001b[0mfill_value\u001b[0m\u001b[1;33m\u001b[0m\u001b[1;33m\u001b[0m\u001b[0m\n\u001b[0m\u001b[0;32m   1314\u001b[0m         )\n\u001b[0;32m   1315\u001b[0m \u001b[1;33m\u001b[0m\u001b[0m\n",
      "\u001b[1;32m~\\AppData\\Local\\Continuum\\anaconda3\\lib\\site-packages\\pandas\\core\\algorithms.py\u001b[0m in \u001b[0;36mtake_nd\u001b[1;34m(arr, indexer, axis, out, fill_value, mask_info, allow_fill)\u001b[0m\n\u001b[0;32m   1714\u001b[0m             \u001b[0mout\u001b[0m \u001b[1;33m=\u001b[0m \u001b[0mnp\u001b[0m\u001b[1;33m.\u001b[0m\u001b[0mempty\u001b[0m\u001b[1;33m(\u001b[0m\u001b[0mout_shape\u001b[0m\u001b[1;33m,\u001b[0m \u001b[0mdtype\u001b[0m\u001b[1;33m=\u001b[0m\u001b[0mdtype\u001b[0m\u001b[1;33m,\u001b[0m \u001b[0morder\u001b[0m\u001b[1;33m=\u001b[0m\u001b[1;34m\"F\"\u001b[0m\u001b[1;33m)\u001b[0m\u001b[1;33m\u001b[0m\u001b[1;33m\u001b[0m\u001b[0m\n\u001b[0;32m   1715\u001b[0m         \u001b[1;32melse\u001b[0m\u001b[1;33m:\u001b[0m\u001b[1;33m\u001b[0m\u001b[1;33m\u001b[0m\u001b[0m\n\u001b[1;32m-> 1716\u001b[1;33m             \u001b[0mout\u001b[0m \u001b[1;33m=\u001b[0m \u001b[0mnp\u001b[0m\u001b[1;33m.\u001b[0m\u001b[0mempty\u001b[0m\u001b[1;33m(\u001b[0m\u001b[0mout_shape\u001b[0m\u001b[1;33m,\u001b[0m \u001b[0mdtype\u001b[0m\u001b[1;33m=\u001b[0m\u001b[0mdtype\u001b[0m\u001b[1;33m)\u001b[0m\u001b[1;33m\u001b[0m\u001b[1;33m\u001b[0m\u001b[0m\n\u001b[0m\u001b[0;32m   1717\u001b[0m \u001b[1;33m\u001b[0m\u001b[0m\n\u001b[0;32m   1718\u001b[0m     func = _get_take_nd_function(\n",
      "\u001b[1;31mMemoryError\u001b[0m: Unable to allocate 2.34 GiB for an array with shape (43, 7292505) and data type float64"
     ]
    }
   ],
   "source": [
    "\n",
    "import lightgbm \n",
    "# making lgbm datasets for train and valid\n",
    "d_train = lightgbm.Dataset(X_train[cols_active], y_train)\n",
    "d_valid = lightgbm.Dataset(X_test[cols_active], y_test)\n",
    "    \n",
    "parameters = {\n",
    "    'application': 'binary',\n",
    "    'objective': 'binary',\n",
    "    'metric': 'binary_error',\n",
    "    'is_unbalance': 'false',\n",
    "    'boosting': 'gbdt',\n",
    "    'num_leaves': 100,\n",
    "    'max_bin':1024,\n",
    "    'feature_fraction': 0.3,\n",
    "    'bagging_fraction': 0.2,\n",
    "    'bagging_freq': 5,\n",
    "    'learning_rate': 0.01,\n",
    "    'verbose': 0\n",
    "}\n",
    "\n",
    "model = lightgbm.train(parameters,\n",
    "                       d_train,\n",
    "                       valid_sets=d_valid,\n",
    "                       num_boost_round=1000,\n",
    "                       early_stopping_rounds=50)   \n",
    "    # making prediciton for one column\n"
   ]
  },
  {
   "cell_type": "code",
   "execution_count": null,
   "metadata": {},
   "outputs": [],
   "source": [
    "\n",
    "plt.rcParams['figure.figsize'] = [20, 10]\n",
    "lightgbm.plot_importance(model)"
   ]
  },
  {
   "cell_type": "code",
   "execution_count": 38,
   "metadata": {},
   "outputs": [
    {
     "name": "stdout",
     "output_type": "stream",
     "text": [
      "Fininshed Training\n"
     ]
    },
    {
     "data": {
      "text/plain": [
       "array([0.03252096, 0.03252096, 0.03252096, ..., 0.03252096, 0.04047605,\n",
       "       0.03252096])"
      ]
     },
     "execution_count": 38,
     "metadata": {},
     "output_type": "execute_result"
    }
   ],
   "source": [
    "#model.save_model('lgbm_distance.txt')\n",
    "\n",
    "soft = model.predict(X_test)\n",
    "\n",
    "print('Fininshed Training')\n",
    "soft"
   ]
  },
  {
   "cell_type": "code",
   "execution_count": 39,
   "metadata": {},
   "outputs": [],
   "source": [
    "\n",
    "yvalid = soft"
   ]
  },
  {
   "cell_type": "code",
   "execution_count": 40,
   "metadata": {},
   "outputs": [],
   "source": [
    "N = np.sum(y_test == 0).values\n",
    "P = np.sum(y_test == 1).values\n",
    "\n"
   ]
  },
  {
   "cell_type": "code",
   "execution_count": 41,
   "metadata": {},
   "outputs": [
    {
     "name": "stdout",
     "output_type": "stream",
     "text": [
      "[3012122]\n",
      "[222091]\n",
      "For the smallest FPR <= 10^-4 (i.e., [9.99295513e-05]) TPR = [0.87299801].\n"
     ]
    }
   ],
   "source": [
    "\n",
    "yvalid_scoreordered = y_test.values[np.argsort(yvalid)]\n",
    "\n",
    "\n",
    "FP = 0.0\n",
    "TP = 0.0\n",
    "val = 0\n",
    "print(N)\n",
    "print(P)\n",
    "for i in range(len(y_test) - 1, -1, -1):        \n",
    "    if (yvalid_scoreordered[i] == 1):\n",
    "        TP = TP + 1\n",
    "    else:\n",
    "        FP = FP + 1\n",
    "        #print(X_test[cols].iloc(i))\n",
    "    if (FP / N > 10**-4):\n",
    "        FP = FP - 1\n",
    "        break\n",
    "print(\"For the smallest FPR <= 10^-4 (i.e., \", FP / N, \") TPR = \", TP / P, \".\", sep = \"\")"
   ]
  },
  {
   "cell_type": "code",
   "execution_count": 33,
   "metadata": {},
   "outputs": [],
   "source": [
    "# Load test data\n",
    "xtest = pd.read_csv('data/xtest_challenge.csv')\n",
    "xtest[\"canberra\"]=distance_canberra_mat(xtest[cols_qr].values, xtest[cols_qs].values)\n",
    "xtest[\"cosine\"]=distance_cosine_mat(xtest[cols_qr].values, xtest[cols_qs].values)\n",
    "xtest[\"khi2\"]=distance_khi2_mat(xtest[cols_qr].values,xtest[cols_qs].values)\n",
    "xtest[\"braycurtis\"]=distance_braycurtis_mat(xtest[cols_qr].values,xtest[cols_qs].values)\n",
    "xtest[\"euclidian\"]=distance_eucl_mat(xtest[cols_qr].values,xtest[cols_qs].values)"
   ]
  },
  {
   "cell_type": "code",
   "execution_count": 35,
   "metadata": {},
   "outputs": [
    {
     "name": "stdout",
     "output_type": "stream",
     "text": [
      "(3768311,)\n"
     ]
    }
   ],
   "source": [
    "# Classify the provided test data\n",
    "ytest = model.predict(xtest.values)\n",
    "print(ytest.shape)\n",
    "np.savetxt('ytest_lbgm_distance_s1.csv', ytest, fmt = '%1.15f', delimiter=',')"
   ]
  },
  {
   "cell_type": "code",
   "execution_count": null,
   "metadata": {},
   "outputs": [],
   "source": [
    "\n"
   ]
  },
  {
   "cell_type": "code",
   "execution_count": null,
   "metadata": {},
   "outputs": [],
   "source": []
  }
 ],
 "metadata": {
  "kernelspec": {
   "display_name": "Python 3",
   "language": "python",
   "name": "python3"
  },
  "language_info": {
   "codemirror_mode": {
    "name": "ipython",
    "version": 3
   },
   "file_extension": ".py",
   "mimetype": "text/x-python",
   "name": "python",
   "nbconvert_exporter": "python",
   "pygments_lexer": "ipython3",
   "version": "3.7.6"
  }
 },
 "nbformat": 4,
 "nbformat_minor": 4
}
