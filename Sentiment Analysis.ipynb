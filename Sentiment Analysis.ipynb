{
 "cells": [
  {
   "cell_type": "code",
   "execution_count": 1,
   "metadata": {},
   "outputs": [],
   "source": [
    "import codecs\n",
    "import os\n",
    "import csv as csv\n",
    "import nltk as nltk\n",
    "import re\n",
    "from nltk.corpus import wordnet as wn\n",
    "import pandas as pd\n",
    "import nltk\n",
    "import matplotlib.pyplot as plt\n",
    "\n",
    "from nltk.tag import map_tag\n",
    "from nltk.sentiment.vader import SentimentIntensityAnalyzer\n"
   ]
  },
  {
   "cell_type": "markdown",
   "metadata": {},
   "source": [
    "# Analyse des opinions par règles sur desdonnées de twitter"
   ]
  },
  {
   "cell_type": "markdown",
   "metadata": {},
   "source": [
    "**Vincent Martinez**"
   ]
  },
  {
   "cell_type": "code",
   "execution_count": null,
   "metadata": {},
   "outputs": [],
   "source": []
  },
  {
   "cell_type": "markdown",
   "metadata": {},
   "source": [
    "## Prétraitements du corpus"
   ]
  },
  {
   "cell_type": "code",
   "execution_count": 2,
   "metadata": {},
   "outputs": [],
   "source": [
    "dicoSlangFile = \"SlangLookupTable.txt\"\n",
    "csvTweetData = \"testdata.manual.2009.06.14.csv\"\n",
    "boosterFile = \"BoosterWordList.txt\"\n",
    "emotesFile = \"EmoticonLookupTable.txt\"\n",
    "negativesFile = \"NegatingWordList.txt\"\n",
    "sentiwordnet = \"SentiWordNet_3.0.0_20130122.txt\""
   ]
  },
  {
   "cell_type": "code",
   "execution_count": 3,
   "metadata": {},
   "outputs": [],
   "source": [
    "# Lecture d'un fichier dictionnaire\n",
    "def read_dict(filename):\n",
    "    file = codecs.open(filename, 'r', encoding=\"utf-8\", errors='ignore')\n",
    "    data = {}\n",
    "    for r in file:\n",
    "        d = r.split(\"\\t\")\n",
    "        data[d[0]] = d[1].strip()    \n",
    "    return data"
   ]
  },
  {
   "cell_type": "code",
   "execution_count": 4,
   "metadata": {},
   "outputs": [],
   "source": [
    "# Lecture d'un fichier simple\n",
    "def read(filename):\n",
    "    file = codecs.open(filename, 'r', encoding=\"utf-8\", errors='ignore')\n",
    "    data = set()\n",
    "    for r in file:        \n",
    "        data.add(r.strip())        \n",
    "    return data"
   ]
  },
  {
   "cell_type": "code",
   "execution_count": 5,
   "metadata": {},
   "outputs": [],
   "source": [
    "# Lecture des données\n",
    "\n",
    "slang = read_dict(dicoSlangFile)\n",
    "emotes = read_dict(emotesFile)\n",
    "negatives = read(negativesFile)\n",
    "booster = read_dict(boosterFile)\n",
    "\n",
    "\n"
   ]
  },
  {
   "cell_type": "code",
   "execution_count": 6,
   "metadata": {},
   "outputs": [],
   "source": [
    "# Reading tweet database\n",
    "tweets = pd.read_csv(csvTweetData, delimiter=',', names=[\"sentiment\",\"id\",\"date\",\"lyx\",\"user\", \"tweet\"])"
   ]
  },
  {
   "cell_type": "code",
   "execution_count": 7,
   "metadata": {},
   "outputs": [],
   "source": [
    "def parse_tweet(tweet, slang, emotes):\n",
    "    \"\"\"\n",
    "    Parse a tweet, spliting the words\n",
    "    \"\"\"\n",
    "    words = []\n",
    "    emote = []\n",
    "    hashtags = 0\n",
    "    tweet = tweet.replace(\"#\", \" #\").replace(\"@\", \" @\").replace(\"&amp;\",\" & \") # replace some chars\n",
    "    for w in tweet.split():                       \n",
    "            if w[0]==\"#\":\n",
    "                #print(w)\n",
    "                hashtags +=1 # count also ## as 2 hashtags\n",
    "            else:\n",
    "                # ref, http, &amp;\n",
    "                if not (w[0] == \"@\" or 'http' in w):\n",
    "                    words.append(w)\n",
    "                    \n",
    "                    # Est ce que le mot contient un ou des emotes?\n",
    "                    for em in emotes:\n",
    "                        # Est-ce un emote?\n",
    "                        if em in w:\n",
    "                            emote.append(em)\n",
    "    \n",
    "    # On utilise le word tokenizer de nltk pour etre performant apres le pré-prcessiong\n",
    "    tokens = nltk.word_tokenize(' '.join(words))\n",
    "    words=[]\n",
    "    for t in tokens:\n",
    "        if t in slang:\n",
    "            # On remplace le slang\n",
    "            words.append(slang[t])\n",
    "        else:\n",
    "             words.append(t)\n",
    "    \n",
    "    return words,emote,hashtags\n",
    "                "
   ]
  },
  {
   "cell_type": "code",
   "execution_count": 8,
   "metadata": {},
   "outputs": [
    {
     "name": "stdout",
     "output_type": "stream",
     "text": [
      "Le nombre de hashtag contenu dans le corpus est de 52 en comptant '##' comme 2 hashtags!\n"
     ]
    }
   ],
   "source": [
    "tweet_parsed = []\n",
    "emote_tweet_parsed = []\n",
    "hashtags = 0\n",
    "\n",
    "# On boucle sur tous les tweets\n",
    "# on recupere les tweet_parsed et les emotes\n",
    "for tw in tweets.tweet:\n",
    "    parsed,emote_parsed, tags = parse_tweet(tw, slang, emotes)\n",
    "    tweet_parsed.append(parsed)\n",
    "    emote_tweet_parsed.append(emote_parsed)\n",
    "    hashtags+=tags\n",
    "    \n",
    "print(f\"Le nombre de hashtag contenu dans le corpus est de {hashtags} en comptant '##' comme 2 hashtags!\")"
   ]
  },
  {
   "cell_type": "markdown",
   "metadata": {},
   "source": [
    "## Etiquetage grammatical"
   ]
  },
  {
   "cell_type": "code",
   "execution_count": 9,
   "metadata": {},
   "outputs": [],
   "source": [
    "tweet_tags = []\n",
    "verb = 0\n",
    "for tw in tweet_parsed:\n",
    "    twg = nltk.pos_tag(tw,tagset='universal')\n",
    "    tweet_tags.append(twg)\n",
    "    for t  in twg:\n",
    "        if t[1]==\"VERB\":\n",
    "            verb+=1\n",
    "            \n",
    "\n",
    "\n"
   ]
  },
  {
   "cell_type": "code",
   "execution_count": 10,
   "metadata": {},
   "outputs": [
    {
     "name": "stdout",
     "output_type": "stream",
     "text": [
      "Nombre de verbes dans le corpus: 1154\n"
     ]
    }
   ],
   "source": [
    "print(f'Nombre de verbes dans le corpus: {verb}')"
   ]
  },
  {
   "cell_type": "markdown",
   "metadata": {},
   "source": [
    "## Algorithme de détection : utilisation du dictionnaire Sentiwordnet"
   ]
  },
  {
   "cell_type": "code",
   "execution_count": 11,
   "metadata": {},
   "outputs": [],
   "source": [
    "def filter_tweet(tweet_tag):    \n",
    "    return filter(lambda twg : (twg[1]=='VERB') or(twg[1]=='ADJ') or (twg[1]=='NOUN') or (twg[1]=='ADV'), tweet_tag)\n",
    "    "
   ]
  },
  {
   "cell_type": "code",
   "execution_count": 12,
   "metadata": {},
   "outputs": [],
   "source": [
    "from nltk.corpus.reader import sentiwordnet as swn\n",
    "dicoSentiWordnetFile ='SentiWordNet_3.0.0_20130122.txt'\n",
    "swn_dict = swn.SentiWordNetCorpusReader('', [dicoSentiWordnetFile])"
   ]
  },
  {
   "cell_type": "code",
   "execution_count": 13,
   "metadata": {},
   "outputs": [],
   "source": [
    "def compute_scores(tweet_tags, tweet_emotes=None, use_boost_neg=False, use_emotes=False):\n",
    "    morphy_tag = {'NOUN':'n', 'ADJ':'a', 'VERB':'v', 'ADV':'r'}\n",
    "    tonality = []\n",
    "    word_repartition = []\n",
    "    for index,twg in enumerate(tweet_tags):\n",
    "        twg = filter_tweet(twg)\n",
    "        score = 0\n",
    "        words = {}\n",
    "        words[\"positive\"] = 0\n",
    "        words[\"negative\"] = 0\n",
    "        score_pos = 0\n",
    "        score_neg = 0\n",
    "        prev_neg = False\n",
    "        prev_booster = False\n",
    "        for tw in twg:                        \n",
    "            senti = list(swn_dict.senti_synsets(tw[0],morphy_tag[tw[1]]))\n",
    "            if len(senti) >0:            \n",
    "                pos = senti[0].pos_score()\n",
    "                neg = senti[0].neg_score()\n",
    "                \n",
    "                if pos > neg:\n",
    "                    words[\"positive\"] +=1\n",
    "                elif pos < neg:\n",
    "                    words[\"negative\"] +=1\n",
    "\n",
    "                if use_boost_neg :\n",
    "                    if prev_booster : \n",
    "                        pos *=2\n",
    "                        neg *=2\n",
    "                    if prev_neg:\n",
    "                        tmp = pos\n",
    "                        pos = neg\n",
    "                        neg = tmp\n",
    "                prev_neg = False\n",
    "                prev_booster = False\n",
    "                score_pos +=pos\n",
    "                score_neg +=neg\n",
    "\n",
    "            if tw[0] in negatives:\n",
    "                    prev_neg = True\n",
    "\n",
    "            if tw[0] in booster:\n",
    "                    prev_booster = True\n",
    "        score = score_pos - score_neg\n",
    "        word_repartition.append(words)\n",
    "        \n",
    "        if use_emotes :\n",
    "            for emote in tweet_emotes[index]:\n",
    "                score +=int(emotes[emote])\n",
    "        \n",
    "        if score >0:\n",
    "            score = 4\n",
    "        elif score <0:\n",
    "            score = 0\n",
    "        else:\n",
    "            score = 2        \n",
    "        tonality.append(score)\n",
    "    return tonality, word_repartition"
   ]
  },
  {
   "cell_type": "code",
   "execution_count": 14,
   "metadata": {},
   "outputs": [],
   "source": [
    "tonality, words = compute_scores(tweet_tags)"
   ]
  },
  {
   "cell_type": "code",
   "execution_count": 15,
   "metadata": {},
   "outputs": [
    {
     "data": {
      "image/png": "[encoded data removed]",
      "text/plain": [
       "<Figure size 1152x648 with 2 Axes>"
      ]
     },
     "metadata": {
      "needs_background": "light"
     },
     "output_type": "display_data"
    }
   ],
   "source": [
    "import seaborn as sn\n",
    "from sklearn.metrics import confusion_matrix\n",
    "matrix = confusion_matrix(tweets[\"sentiment\"], tonality)\n",
    "plt.figure(figsize=(16,9))\n",
    "ax = sn.heatmap(matrix, annot=True,xticklabels=['negative','neutre','positive'], yticklabels=['negative','neutre','positive'],fmt='.0f') \n",
    "ax.set(title=\"Confusion matrix\",\n",
    "      xlabel=\"Predictive Sentiment\",\n",
    "      ylabel=\"True Sentiment\",)\n",
    "plt.show() "
   ]
  },
  {
   "cell_type": "markdown",
   "metadata": {},
   "source": [
    "La matrice de confusion permet donc de voir les prédictions par rapport aux réels sentiment. On note par exemple, le score assez mauvais des prédictions 'positive'. 136 tweets sont bien prédits alors que 72 tweet sont taggués positifs alors qu'ils sont négative et 69 prédit positif alors qu'ils sont neutre."
   ]
  },
  {
   "cell_type": "markdown",
   "metadata": {},
   "source": [
    "## Algorithme de détection : gestion de la négation et des modifieurs"
   ]
  },
  {
   "cell_type": "code",
   "execution_count": 16,
   "metadata": {},
   "outputs": [],
   "source": [
    "# Add some negative words\n",
    "negatives.add(\"n't\")\n",
    "negatives.add(\"'t\")\n"
   ]
  },
  {
   "cell_type": "code",
   "execution_count": 17,
   "metadata": {},
   "outputs": [],
   "source": [
    "tonality, words = compute_scores(tweet_tags, None, True)"
   ]
  },
  {
   "cell_type": "code",
   "execution_count": 18,
   "metadata": {},
   "outputs": [
    {
     "data": {
      "image/png": "[encoded data removed]",
      "text/plain": [
       "<Figure size 1152x648 with 2 Axes>"
      ]
     },
     "metadata": {
      "needs_background": "light"
     },
     "output_type": "display_data"
    }
   ],
   "source": [
    "matrix = confusion_matrix(tweets[\"sentiment\"], tonality)\n",
    "plt.figure(figsize=(16,9))\n",
    "ax = sn.heatmap(matrix, annot=True,xticklabels=['negative','neutre','positive'], yticklabels=['negative','neutre','positive'],fmt='.0f') \n",
    "ax.set(title=\"Confusion matrix\",\n",
    "      xlabel=\"Predictive Sentiment\",\n",
    "      ylabel=\"True Sentiment\",)\n",
    "plt.show() "
   ]
  },
  {
   "cell_type": "code",
   "execution_count": 19,
   "metadata": {},
   "outputs": [],
   "source": [
    "tweets[\"negative\"] = [ w[\"negative\"] for w in words]"
   ]
  },
  {
   "cell_type": "code",
   "execution_count": 20,
   "metadata": {},
   "outputs": [
    {
     "name": "stdout",
     "output_type": "stream",
     "text": [
      "Il y a 99 mots négatifs dans les tweets positifs\n"
     ]
    }
   ],
   "source": [
    "sum_neg_in_pos = tweets[tweets.sentiment==4][\"negative\"].sum()\n",
    "\n",
    "print(f\"Il y a {sum_neg_in_pos} mots négatifs dans les tweets positifs\")"
   ]
  },
  {
   "cell_type": "markdown",
   "metadata": {},
   "source": [
    "L'intégration des mutilplicateur et des négations n'a pas beaucoup améliorer les scores. pire, le score de  positif a meme diminué."
   ]
  },
  {
   "cell_type": "markdown",
   "metadata": {},
   "source": [
    "## Algorithme de détection : gestion des émoticones"
   ]
  },
  {
   "cell_type": "code",
   "execution_count": null,
   "metadata": {},
   "outputs": [],
   "source": []
  },
  {
   "cell_type": "code",
   "execution_count": 21,
   "metadata": {},
   "outputs": [
    {
     "data": {
      "image/png": "[encoded data removed]",
      "text/plain": [
       "<Figure size 1152x648 with 2 Axes>"
      ]
     },
     "metadata": {
      "needs_background": "light"
     },
     "output_type": "display_data"
    }
   ],
   "source": [
    "tonality, negative = compute_scores(tweet_tags, emote_tweet_parsed, True, True)\n",
    "matrix = confusion_matrix(tweets[\"sentiment\"], tonality)\n",
    "plt.figure(figsize=(16,9))\n",
    "ax = sn.heatmap(matrix, annot=True,xticklabels=['negative','neutre','positive'], yticklabels=['negative','neutre','positive'],fmt='.0f') \n",
    "ax.set(title=\"Confusion matrix\",\n",
    "      xlabel=\"Predictive Sentiment\",\n",
    "      ylabel=\"True Sentiment\",)\n",
    "plt.show()"
   ]
  },
  {
   "cell_type": "code",
   "execution_count": 22,
   "metadata": {},
   "outputs": [
    {
     "name": "stdout",
     "output_type": "stream",
     "text": [
      "Le nombre d'emotes contenu dans le corpus est de 54\n"
     ]
    }
   ],
   "source": [
    "print(f\"Le nombre d'emotes contenu dans le corpus est de {sum([len(emotes) for emotes in emote_tweet_parsed])}\")"
   ]
  },
  {
   "cell_type": "markdown",
   "metadata": {},
   "source": [
    "## Algorithme de détection : votre version vs Vader"
   ]
  },
  {
   "cell_type": "code",
   "execution_count": 23,
   "metadata": {},
   "outputs": [],
   "source": [
    "sia = SentimentIntensityAnalyzer()\n",
    "\n",
    "vader = []\n",
    "for t in tweets.tweet:\n",
    "    score = sia.polarity_scores(t)['compound'] \n",
    "    if score >0:\n",
    "        vader.append(4)\n",
    "    elif score <-0:\n",
    "        vader.append(0)\n",
    "    else:\n",
    "        vader.append(2)"
   ]
  },
  {
   "cell_type": "code",
   "execution_count": 24,
   "metadata": {},
   "outputs": [
    {
     "data": {
      "text/plain": [
       "[Text(123.0, 0.5, 'True Sentiment'),\n",
       " Text(0.5, 60.0, 'Predictive Sentiment'),\n",
       " Text(0.5, 1.0, 'Confusion matrix for Vader')]"
      ]
     },
     "execution_count": 24,
     "metadata": {},
     "output_type": "execute_result"
    },
    {
     "data": {
      "image/png": "[encoded data removed]",
      "text/plain": [
       "<Figure size 1152x648 with 2 Axes>"
      ]
     },
     "metadata": {
      "needs_background": "light"
     },
     "output_type": "display_data"
    }
   ],
   "source": [
    "matrix = confusion_matrix(tweets[\"sentiment\"], vader)\n",
    "plt.figure(figsize=(16,9))\n",
    "ax = sn.heatmap(matrix, annot=True,xticklabels=['negative','neutre','positive'], yticklabels=['negative','neutre','positive'],fmt='.0f') \n",
    "ax.set(title=\"Confusion matrix for Vader\",\n",
    "      xlabel=\"Predictive Sentiment\",\n",
    "      ylabel=\"True Sentiment\",)\n"
   ]
  },
  {
   "cell_type": "code",
   "execution_count": null,
   "metadata": {},
   "outputs": [],
   "source": []
  }
 ],
 "metadata": {
  "kernelspec": {
   "display_name": "Python 3",
   "language": "python",
   "name": "python3"
  },
  "language_info": {
   "codemirror_mode": {
    "name": "ipython",
    "version": 3
   },
   "file_extension": ".py",
   "mimetype": "text/x-python",
   "name": "python",
   "nbconvert_exporter": "python",
   "pygments_lexer": "ipython3",
   "version": "3.6.10"
  }
 },
 "nbformat": 4,
 "nbformat_minor": 4
}
